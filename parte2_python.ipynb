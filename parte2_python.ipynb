{
  "cells": [
    {
      "cell_type": "markdown",
      "metadata": {},
      "source": [
        "# Parte 2 - Operações usuais em bases de dados\n",
        "\n",
        "## Objetivo do capítulo\n",
        "\n",
        "Determinadas operações são realizadas corriqueiramente em bases de dados, como por exemplo, filtrar, ordenar, agregar, sumarizar, juntar bases de dados, criar novas variáveis na base de dados etc.\n",
        "\n",
        "Neste capítulo nosso objetivo é mostrar como usar o [`{pandas}`](https://pandas.pydata.org/) para realizar essas operações.\n",
        "\n",
        "## Métodos vs Funções\n",
        "\n",
        "Conforme brevemente antecipado ao final da parte anterior, o Python implementa o paradigma de programação orientada a objetos (POO). Este paradigma se diferencia da programação procedural (tradicional) por encapsular dados e procedimentos (funções) em uma única entidade denominada _objeto_. No Python, é possível utilizar (e até mesmo mesclar) tanto o paradigma tradicional quanto a POO. Quando um procedimento não está associado a um objeto ele é denominado _função_, caso esteja, é denominado _método_. Os dados associados a um objeto são seus _atributos_.\n",
        "\n",
        "## Encadeamento de operações\n",
        "\n",
        "O encadeamento de operações sobre um objeto do tipo tabela (`dataframe`) é muito comum em análise de dados.\n",
        "\n",
        "Um exemplo típico de operações envolvendo um objeto do tipo `dataframe` seria: leitura de arquivo, seleção de colunas, filtragem de registros, junção com outros dados e sumarização.\n",
        "\n",
        "Incialmente, faremos algo um pouco mais simples: leitura dos dados de um arquivo, seleção de algumas colunas de interesse e descrição estatística dos elementos das colunas selecionadas.\n",
        "\n",
        "Para codificar a sequência de operações descrita, costuma-se mesclar os paradigmas (tradicional e POO) da seguinte maneira:"
      ]
    },
    {
      "cell_type": "code",
      "metadata": {},
      "source": [
        "#| eval: false\n",
        "import pandas as pd\n",
        "\n",
        "grupos = pd.read_excel(\"./dados/ISP2020.xlsx\", sheet_name=\"GRUPOS\")\n",
        "\n",
        "grupos_selecionados = grupos.loc[:, [\"SEGURADOS ATIVOS\",\n",
        "                                     \"APOSENTADOS\", \"PENSIONISTAS\"]]\n",
        "\n",
        "grupos_selecionados.describe()"
      ],
      "execution_count": null,
      "outputs": []
    },
    {
      "cell_type": "markdown",
      "metadata": {},
      "source": [
        "Podemos reescrever o código, explicitando o encadeamento de operações de modo a torná-lo mais organizado, facilitando sua leitura e compreensão, da seguinte forma:"
      ]
    },
    {
      "cell_type": "code",
      "metadata": {},
      "source": [
        "import pandas as pd\n",
        "\n",
        "grupos = pd.read_excel(\"./dados/ISP2020.xlsx\", sheet_name=\"GRUPOS\")\n",
        "\n",
        "(grupos\n",
        "    .loc[:, [\"SEGURADOS ATIVOS\", \"APOSENTADOS\", \"PENSIONISTAS\"]]\n",
        "    .describe())"
      ],
      "execution_count": null,
      "outputs": []
    },
    {
      "cell_type": "markdown",
      "metadata": {},
      "source": [
        "Observe que o fluxo de operações agora pode ser lido de forma mais clara e natural: partindo de um conjunto de dados tabular (`grupos`), seleciona-se um subconjunto de colunas (`.loc[]`) e obtém-se estatísticas que descrevem os dados das colunas selecionadas (`.describe()`).\n",
        "\n",
        "Caso estivéssemos utilizando a biblioteca [`{polars}`](https://github.com/pola-rs/polars) ao invés de `{pandas}`, o código seria praticamente idêntico:"
      ]
    },
    {
      "cell_type": "code",
      "metadata": {},
      "source": [
        "import polars as pl\n",
        "\n",
        "grupos = pl.read_excel(\"./dados/ISP2020.xlsx\", sheet_name=\"GRUPOS\")\n",
        "\n",
        "(grupos\n",
        "    .select([\"SEGURADOS ATIVOS\", \"APOSENTADOS\", \"PENSIONISTAS\"])\n",
        "    .describe())"
      ],
      "execution_count": null,
      "outputs": []
    }
  ],
  "metadata": {
    "kernelspec": {
      "name": "python3",
      "language": "python",
      "display_name": "Python 3 (ipykernel)"
    }
  },
  "nbformat": 4,
  "nbformat_minor": 4
}