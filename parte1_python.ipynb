{
  "cells": [
    {
      "cell_type": "markdown",
      "metadata": {},
      "source": [
        "# Parte 1 - Importação e exportação de dados\n",
        "\n",
        "Toda análise de dados vai ter início com a importação para Python dos dados necessários à análise a ser realizada. Para a importação de dados, existem diversas opções de bibliotecas a depender do formato do arquivo no qual os dados estão armazenados.\n",
        "\n",
        "Uma opção muito comum é termos dados armazenados em planilhas eletrônicas, em particular o Excel. Mas diversas outras opções de arquivos para armazenamento de dados existem como, por exemplo, `csv` e `json`.\n",
        "\n",
        "Para a importação de dados, o `{pandas}` é uma biblioteca muito utilizada, permitindo a leitura de dados em diferentes formatos, como texto, Excel, SQL, entre outros.\n",
        "\n",
        "Para a importação de dados no formato do Excel, o [`{pandas}`](https://pandas.pydata.org/) faz uso de bibliotecas específicas para este fim. Uma das mais utilizadas chama-se [`{openpyxl}`](https://openpyxl.readthedocs.io/en/stable/) (para o formato mais atual `xlsx`) e [`{xlrd}`](https://xlrd.readthedocs.io/en/latest/) (para o formato mais legado `xls`).\n",
        "\n",
        "Para instalar o `{pandas}` e `{openpyxl}`, você pode usar o gerenciador de pacotes pip. Observe que a sintaxe é bem simples. O comando -U no pip install é opcional e indica ao pip para atualizar os pacotes a serem instalados para a versão mais recente disponível. Se os pacotes já estiverem instalados, o pip irá verificar se há uma versão mais recente disponível no Python Package Index (PyPI). Se houver, o pip irá desinstalar as versões atualmente instaladas e instalar as versões mais recentes."
      ]
    },
    {
      "cell_type": "code",
      "metadata": {},
      "source": [
        "#| eval: false\n",
        "\n",
        "!pip install -U pandas openpyxl xlrd"
      ],
      "execution_count": null,
      "outputs": []
    },
    {
      "cell_type": "markdown",
      "metadata": {},
      "source": [
        "Depois de instalar as bibliotecas, é necessário importá-las para que suas funções sejam disponibilizadas para uso."
      ]
    },
    {
      "cell_type": "code",
      "metadata": {},
      "source": [
        "# Importando a biblioteca Pandas\n",
        "import pandas as pd"
      ],
      "execution_count": null,
      "outputs": []
    },
    {
      "cell_type": "markdown",
      "metadata": {},
      "source": [
        "Observe que a menos que queiramos utilizar diretamente a biblioteca `{openpyxl}`, não é necessário importá-la diretamente uma vez que o Pandas, quando necessitar realizar uma operação de leitura ou escrita para arquivos do Excel irá procurar, automaticamente, uma biblioteca instalada no sistema que sirva a este fim. No caso em tela, ele encontrará a biblioteca `{openpyxl}` e importará suas funcionalidades sem que precisemos fazê-lo de forma explícita.\n",
        "\n",
        "## Importação de dados contidos no Excel\n",
        "\n",
        "Para a importação de dados armazenados em arquivos Excel, o Pandas possui a função read_excel que permite a leitura de arquivos no formato xlsx.\n",
        "\n",
        "Vamos iniciar fazendo a importação dos dados contidos no arquivo excel `ISP2020.xlsx`, que contém 9 abas (ou planilhas). Estamos interessados nos dados da planilha \"`GRUPOS`\".\n",
        "\n",
        "Para fazer a importação dos dados, vamos utilizar a função `read_excel()` do pacote `pandas` que já foi anteriormente carregado."
      ]
    },
    {
      "cell_type": "code",
      "metadata": {},
      "source": [
        "# Importando a planilha \"GRUPOS\"\n",
        "grupos = pd.read_excel(\"./dados/ISP2020.xlsx\", sheet_name=\"GRUPOS\")"
      ],
      "execution_count": null,
      "outputs": []
    },
    {
      "cell_type": "markdown",
      "metadata": {},
      "source": [
        "::: callout-warning\n",
        "Caso tentem executar esse código com a planilha aberta vocês obterão uma mensagem de erro!\n",
        ":::\n",
        "\n",
        "Importado o conjunto de dados, é sempre recomendado dar uma conferida para ver se a importação ocorreu conforme esperado. Para fazer essa checagem, podemos utilizar as funções `info()`, `head()` e `tail()`."
      ]
    },
    {
      "cell_type": "code",
      "metadata": {},
      "source": [
        "# Verificando as informações básicas do DataFrame\n",
        "print(grupos.info())"
      ],
      "execution_count": null,
      "outputs": []
    },
    {
      "cell_type": "code",
      "metadata": {},
      "source": [
        "# Inspeção dos registros iniciais da base de dados\n",
        "print(grupos.head(2))"
      ],
      "execution_count": null,
      "outputs": []
    },
    {
      "cell_type": "code",
      "metadata": {},
      "source": [
        "# Inspeção dos registros finais da base de dados\n",
        "print(grupos.tail(2))"
      ],
      "execution_count": null,
      "outputs": []
    },
    {
      "cell_type": "markdown",
      "metadata": {},
      "source": [
        "Aparentemente, os dados foram importados sem maiores problemas.\n",
        "\n",
        "![](%22figuras/maozinha.png%22){width=\"10%\"}\n",
        "\n",
        "::: callout-tip\n",
        "## Exercício\n",
        "\n",
        "1.  Importar os dados contidos na planilha `RESULTADO`. Fazer a inspeção dos dados conforme mostrado. Coloque os dados no objeto `resultado`.\n",
        "\n",
        "2.  Importar os dados contidos no arquivo `fundos_investimentos.xlsx`. Fazer a inspeção dos dados.\n",
        ":::"
      ]
    },
    {
      "cell_type": "code",
      "metadata": {},
      "source": [
        "#| echo: false\n",
        "#| include: false\n",
        "#| label: resolucao-exercicio-1\n",
        "\n",
        "# Resolução do Exercício 1\n",
        "\n",
        "# Importando os dados da planilha \"RESULTADO\"\n",
        "resultado = pd.read_excel(\"./dados/ISP2020.xlsx\", sheet_name=\"RESULTADO\")\n",
        "\n",
        "# Importando os dados do arquivo \"fundos_investimentos.xlsx\"\n",
        "fundos = pd.read_excel(\"./dados/fundos_investimentos.xlsx\")\n",
        "\n",
        "# Descomente as linhas abaixo para fazer a inspeção dos dados\n",
        "# print(resultado.head())\n",
        "# print(resultado.tail())\n",
        "# print(fundos.head())\n",
        "# print(fundos.tail())"
      ],
      "execution_count": null,
      "outputs": []
    },
    {
      "cell_type": "markdown",
      "metadata": {},
      "source": [
        "::: callout-tip\n",
        "## Desafio\n",
        "\n",
        "Importar os dados contidos no arquivo `UG123400_Jan18-Set18_Cta621201101.xls`. Coloque os dados no objeto `razao` e faça as checagens recomendadas.\n",
        ":::"
      ]
    },
    {
      "cell_type": "code",
      "metadata": {},
      "source": [
        "#| echo: false\n",
        "#| include: false\n",
        "#| label: resolucao-desafio-1\n",
        "\n",
        "# Resolução do Desafio\n",
        "\n",
        "# Importando os dados especificados do arquivo, \n",
        "# renomeando as colunas após a importação\n",
        "\n",
        "nome_arq = \"./dados/UG123400_Jan18-Set18_Cta621201101.xls\"\n",
        "razao = pd.read_excel(nome_arq, header=None, skiprows=11, usecols=\"A:M\")\n",
        "\n",
        "# Remove todas as eventuais linhas que estejam inteiramente vazias\n",
        "razao.dropna(how='all', inplace=True)\n",
        "\n",
        "# Remove todas as eventuais colunas que estejam inteiramente vazias\n",
        "razao.dropna(axis=1, how='all', inplace=True)\n",
        "\n",
        "# Atribui nomes às colunas\n",
        "razao.columns = [\"data\", \"ug_emitente\", \"doc\",\n",
        "                 \"tp_doc\", \"evento\", \"vlr\", \"dc\",\n",
        "                 \"saldo\", \"ns\", \"estorno\", \"obs\"]"
      ],
      "execution_count": null,
      "outputs": []
    },
    {
      "cell_type": "markdown",
      "metadata": {},
      "source": [
        "## Exportando dados no formato Excel\n",
        "\n",
        "Para exportar dados que já estejam no Pyhton, não será necessário instalar nenhum pacote adicional uma vez que a biblioteca `{openpyxl}`, que utilizamos para importar dados do Excel, também possui a funcionalidade de exportação. De forma análoga à vista na seção anterior, o Pandas encapsula essa funcionalidade na função `write_excel()`\n",
        "\n",
        "Vamos exportar para uma planilha do excel o arquivo do razão contábil que acabamos de importar."
      ]
    },
    {
      "cell_type": "code",
      "metadata": {},
      "source": [
        "#| eval: false\n",
        "#| label: exportando-dados-excel-write-excel\n",
        "\n",
        "pd.write_excel(razao, path=\"dados/razao.xlsx\", index=False)"
      ],
      "execution_count": null,
      "outputs": []
    },
    {
      "cell_type": "markdown",
      "metadata": {},
      "source": [
        "::: callout-tip\n",
        "No Python, os objetos possuem algumas funções a eles associadas. Essas funções são chamadas de **métodos**. No contexto do Pandas, os objetos que armazenam tabelas possuem o método `to_excel()` que poderia ter sido chamado alternativamente à função `write_excel`.\n",
        ":::\n",
        "\n",
        "O exemplo a seguir ilustra a exportação para o Excel por meio de uma chamada ao método `to_excel()` associado ao objeto `razao`."
      ]
    },
    {
      "cell_type": "code",
      "metadata": {},
      "source": [
        "#| eval: false\n",
        "#| label: exportando-dados-excel-to-excel\n",
        "\n",
        "razao.to_excel(razao, path=\"dados/razao.xlsx\", index=False)"
      ],
      "execution_count": null,
      "outputs": []
    }
  ],
  "metadata": {
    "kernelspec": {
      "name": "python3",
      "language": "python",
      "display_name": "Python 3 (ipykernel)"
    }
  },
  "nbformat": 4,
  "nbformat_minor": 4
}